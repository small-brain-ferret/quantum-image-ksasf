{
 "cells": [
  {
   "cell_type": "code",
   "execution_count": 1,
   "metadata": {},
   "outputs": [],
   "source": [
    "import qiskit as qk\n",
    "from qiskit import QuantumCircuit\n",
    "from qiskit_ibm_runtime import QiskitRuntimeService\n",
    "from qiskit import transpile\n",
    "from qiskit.visualization import plot_histogram\n",
    "from math import pi\n",
    "from qiskit import *\n",
    "from qiskit_aer import AerSimulator\n",
    "from qiskit_aer.primitives import EstimatorV2, SamplerV2\n",
    "import matplotlib.pyplot as plt\n",
    "from qiskit_ibm_runtime import QiskitRuntimeService\n",
    "import pandas as pd\n",
    "import numpy as np\n",
    "import random\n",
    "from qiskit.circuit.library import RealAmplitudes\n",
    "from qiskit.quantum_info import SparsePauliOp\n",
    "from time import time\n",
    "from qiskit.circuit.library.standard_gates import RYGate, RYYGate"
   ]
  },
  {
   "cell_type": "code",
   "execution_count": 2,
   "metadata": {},
   "outputs": [
    {
     "data": {
      "image/png": "[encoded data removed]",
      "text/plain": [
       "<Figure size 640x480 with 1 Axes>"
      ]
     },
     "metadata": {},
     "output_type": "display_data"
    }
   ],
   "source": [
    "# Read the CSV file. \n",
    "# (Assuming the CSV has a label in the first column and pixel values in the remaining 64 columns, for an 8x8 image.)\n",
    "dataset = pd.read_csv('../frqi/website/static/mnist_dataset.csv')\n",
    "\n",
    "# Select the first image, ignoring the label column.\n",
    "# Adjust slicing if your file has a different format.\n",
    "image_data = dataset.to_numpy()[0, 1:]\n",
    "# Reshape to an 8x8 array and ensure pixel values are integers (0-255)\n",
    "image = image_data.reshape(8, 8).astype(np.uint8)\n",
    "\n",
    "plt.imshow(image, cmap='gray')\n",
    "plt.title(\"Original Image\")\n",
    "plt.axis('off')\n",
    "plt.show()"
   ]
  },
  {
   "cell_type": "code",
   "execution_count": 3,
   "metadata": {},
   "outputs": [
    {
     "data": {
      "text/plain": [
       "<qiskit.circuit.instructionset.InstructionSet at 0x14899ee90>"
      ]
     },
     "execution_count": 3,
     "metadata": {},
     "output_type": "execute_result"
    }
   ],
   "source": [
    "# Normalize pixel values to 8-bit integers (0-255)\n",
    "pixel_values = image.flatten()\n",
    "\n",
    "# Declare the Quantum and Classical registers\n",
    "position_qubits = QuantumRegister(6, 'pos')  # 6 qubits for 64 positions\n",
    "intensity_qubits = QuantumRegister(8, 'int')  # 8 qubits for intensity (8-bit grayscale)\n",
    "classical_bits = ClassicalRegister(14, 'c')  # For measurement\n",
    "qc = QuantumCircuit(position_qubits, intensity_qubits, classical_bits)\n",
    "\n",
    "# Function to apply Hadamard gates to position qubits\n",
    "def hadamard(circ, n):\n",
    "    for i in n:\n",
    "        circ.h(i)\n",
    "\n",
    "def encode_pixel_values(circ, position_qubits, intensity_qubits, pixel_vals):\n",
    "    n = len(position_qubits)\n",
    "    m = len(intensity_qubits)\n",
    "\n",
    "    for idx, pixel in enumerate(pixel_vals):\n",
    "        # big-endian index & intensity strings\n",
    "        bin_idx       = format(idx,   f'0{n}b')  \n",
    "        intensity_bin = format(pixel, f'0{m}b')\n",
    "\n",
    "        # 1) “select” the basis state |idx⟩ by flipping pos-qubits where bit=0\n",
    "        for i, bit in enumerate(bin_idx):\n",
    "            if bit == '0':\n",
    "                circ.x(position_qubits[n - 1 - i])\n",
    "\n",
    "        # 2) for each ‘1’ in the intensity, apply an mcx onto the reversed qubit\n",
    "        for j, bit in enumerate(intensity_bin):\n",
    "            if bit == '1':\n",
    "                circ.mcx(\n",
    "                    control_qubits=position_qubits,\n",
    "                    target_qubit=intensity_qubits[m - 1 - j]\n",
    "                )\n",
    "\n",
    "        # 3) uncompute the X’s so the pos-register is clean for the next idx\n",
    "        for i, bit in enumerate(bin_idx):\n",
    "            if bit == '0':\n",
    "                circ.x(position_qubits[n - 1 - i])\n",
    "\n",
    "\n",
    "# NEQR function to encode the image\n",
    "def neqr(circ, position_qubits, intensity_qubits, pixel_values):\n",
    "    # Apply Hadamard to position qubits to create superposition\n",
    "    circ.h(position_qubits)\n",
    "    # Encode pixel values\n",
    "    encode_pixel_values(circ, position_qubits, intensity_qubits, pixel_values)\n",
    "\n",
    "\n",
    "# Apply NEQR encoding\n",
    "neqr(qc, position_qubits, intensity_qubits, pixel_values)\n",
    "\n",
    "# Measure all qubits\n",
    "qc.measure(position_qubits[:] + intensity_qubits[:], classical_bits[:])\n",
    "\n",
    "# Visualize the circuit\n",
    "# qc.draw('mpl')"
   ]
  },
  {
   "cell_type": "code",
   "execution_count": 4,
   "metadata": {},
   "outputs": [
    {
     "data": {
      "image/png": "[encoded data removed]",
      "text/plain": [
       "<Figure size 640x480 with 1 Axes>"
      ]
     },
     "metadata": {},
     "output_type": "display_data"
    }
   ],
   "source": [
    "from collections import defaultdict\n",
    "from qiskit import transpile\n",
    "from qiskit_aer import AerSimulator\n",
    "import numpy as np\n",
    "import matplotlib.pyplot as plt\n",
    "\n",
    "# 1) Transpile & run\n",
    "simulator = AerSimulator()\n",
    "t_qc = transpile(qc, simulator)\n",
    "result = simulator.run(t_qc, shots=180).result()\n",
    "counts = result.get_counts()\n",
    "\n",
    "# 2) Build a dict: position → { intensity → votes }\n",
    "pos2counts = defaultdict(lambda: defaultdict(int))\n",
    "for bitstr, cnt in counts.items():\n",
    "    # MSB-first: first 8 bits = intensity, last 6 bits = position\n",
    "    intensity = int(bitstr[:8],  2)\n",
    "    position  = int(bitstr[8:],   2)\n",
    "    pos2counts[position][intensity] += cnt\n",
    "\n",
    "# 3) Winner-takes-all decode\n",
    "flat = np.zeros(64, dtype=int)\n",
    "for pos, idict in pos2counts.items():\n",
    "    # pick the intensity with the highest vote-count\n",
    "    flat[pos] = max(idict.items(), key=lambda kv: kv[1])[0]\n",
    "\n",
    "# 4) Reshape back to 8×8 and plot\n",
    "retrieve_image = flat.reshape((8,8)).astype(np.uint8)\n",
    "plt.imshow(retrieve_image, cmap='gray', vmin=0, vmax=255)\n",
    "plt.title(\"Retrieved Image\")\n",
    "plt.axis('off')\n",
    "plt.show()\n"
   ]
  },
  {
   "cell_type": "code",
   "execution_count": 6,
   "metadata": {},
   "outputs": [],
   "source": [
    "from skimage.metrics import structural_similarity as ssim\n",
    "\n",
    "def ssim_fidelity(original, retrieved):\n",
    "    return ssim(original, retrieved, data_range=255)"
   ]
  },
  {
   "cell_type": "code",
   "execution_count": 7,
   "metadata": {},
   "outputs": [
    {
     "name": "stdout",
     "output_type": "stream",
     "text": [
      "Using SSIM for fidelity.\n"
     ]
    }
   ],
   "source": [
    "from skimage.metrics import structural_similarity as ssim\n",
    "\n",
    "def ssim_fidelity(original, retrieved):\n",
    "    return ssim(original, retrieved, data_range=255)\n",
    "\n",
    "fidelity_func = ssim_fidelity\n",
    "metric_name = \"SSIM\"\n",
    "print(\"Using SSIM for fidelity.\")"
   ]
  },
  {
   "cell_type": "code",
   "execution_count": 8,
   "metadata": {},
   "outputs": [
    {
     "name": "stdout",
     "output_type": "stream",
     "text": [
      "Processing 20 shots for batch of 20 images...\n",
      "Shots: 20, Avg SSIM: 0.2221, Std: 0.1579\n",
      "Processing 40 shots for batch of 20 images...\n",
      "Shots: 20, Avg SSIM: 0.2221, Std: 0.1579\n",
      "Processing 40 shots for batch of 20 images...\n",
      "Shots: 40, Avg SSIM: 0.4991, Std: 0.2027\n",
      "Processing 60 shots for batch of 20 images...\n",
      "Shots: 40, Avg SSIM: 0.4991, Std: 0.2027\n",
      "Processing 60 shots for batch of 20 images...\n",
      "Shots: 60, Avg SSIM: 0.6952, Std: 0.1623\n",
      "Processing 80 shots for batch of 20 images...\n",
      "Shots: 60, Avg SSIM: 0.6952, Std: 0.1623\n",
      "Processing 80 shots for batch of 20 images...\n",
      "Shots: 80, Avg SSIM: 0.6695, Std: 0.1897\n",
      "Processing 100 shots for batch of 20 images...\n",
      "Shots: 80, Avg SSIM: 0.6695, Std: 0.1897\n",
      "Processing 100 shots for batch of 20 images...\n",
      "Shots: 100, Avg SSIM: 0.8485, Std: 0.1101\n",
      "Processing 120 shots for batch of 20 images...\n",
      "Shots: 100, Avg SSIM: 0.8485, Std: 0.1101\n",
      "Processing 120 shots for batch of 20 images...\n",
      "Shots: 120, Avg SSIM: 0.9211, Std: 0.0926\n",
      "Processing 140 shots for batch of 20 images...\n",
      "Shots: 120, Avg SSIM: 0.9211, Std: 0.0926\n",
      "Processing 140 shots for batch of 20 images...\n",
      "Shots: 140, Avg SSIM: 0.9336, Std: 0.0699\n",
      "Processing 160 shots for batch of 20 images...\n",
      "Shots: 140, Avg SSIM: 0.9336, Std: 0.0699\n",
      "Processing 160 shots for batch of 20 images...\n",
      "Shots: 160, Avg SSIM: 0.9572, Std: 0.0464\n",
      "Processing 180 shots for batch of 20 images...\n",
      "Shots: 160, Avg SSIM: 0.9572, Std: 0.0464\n",
      "Processing 180 shots for batch of 20 images...\n",
      "Shots: 180, Avg SSIM: 0.9640, Std: 0.0560\n",
      "Processing 200 shots for batch of 20 images...\n",
      "Shots: 180, Avg SSIM: 0.9640, Std: 0.0560\n",
      "Processing 200 shots for batch of 20 images...\n",
      "Shots: 200, Avg SSIM: 0.9825, Std: 0.0274\n",
      "Processing 200 shots for batch of 20 images...\n",
      "Shots: 200, Avg SSIM: 0.9825, Std: 0.0274\n",
      "Processing 200 shots for batch of 20 images...\n",
      "Shots: 200, Avg SSIM: 0.9570, Std: 0.0506\n",
      "Processing 400 shots for batch of 20 images...\n",
      "Shots: 200, Avg SSIM: 0.9570, Std: 0.0506\n",
      "Processing 400 shots for batch of 20 images...\n",
      "Shots: 400, Avg SSIM: 1.0000, Std: 0.0000\n",
      "Processing 600 shots for batch of 20 images...\n",
      "Shots: 400, Avg SSIM: 1.0000, Std: 0.0000\n",
      "Processing 600 shots for batch of 20 images...\n",
      "Shots: 600, Avg SSIM: 1.0000, Std: 0.0000\n",
      "Processing 800 shots for batch of 20 images...\n",
      "Shots: 600, Avg SSIM: 1.0000, Std: 0.0000\n",
      "Processing 800 shots for batch of 20 images...\n",
      "Shots: 800, Avg SSIM: 1.0000, Std: 0.0000\n",
      "Processing 1000 shots for batch of 20 images...\n",
      "Shots: 800, Avg SSIM: 1.0000, Std: 0.0000\n",
      "Processing 1000 shots for batch of 20 images...\n",
      "Shots: 1000, Avg SSIM: 1.0000, Std: 0.0000\n",
      "Processing 1200 shots for batch of 20 images...\n",
      "Shots: 1000, Avg SSIM: 1.0000, Std: 0.0000\n",
      "Processing 1200 shots for batch of 20 images...\n",
      "Shots: 1200, Avg SSIM: 1.0000, Std: 0.0000\n",
      "Processing 1400 shots for batch of 20 images...\n",
      "Shots: 1200, Avg SSIM: 1.0000, Std: 0.0000\n",
      "Processing 1400 shots for batch of 20 images...\n",
      "Shots: 1400, Avg SSIM: 1.0000, Std: 0.0000\n",
      "Processing 1600 shots for batch of 20 images...\n",
      "Shots: 1400, Avg SSIM: 1.0000, Std: 0.0000\n",
      "Processing 1600 shots for batch of 20 images...\n",
      "Shots: 1600, Avg SSIM: 1.0000, Std: 0.0000\n",
      "Processing 1800 shots for batch of 20 images...\n",
      "Shots: 1600, Avg SSIM: 1.0000, Std: 0.0000\n",
      "Processing 1800 shots for batch of 20 images...\n",
      "Shots: 1800, Avg SSIM: 1.0000, Std: 0.0000\n",
      "Processing 2000 shots for batch of 20 images...\n",
      "Shots: 1800, Avg SSIM: 1.0000, Std: 0.0000\n",
      "Processing 2000 shots for batch of 20 images...\n",
      "Shots: 2000, Avg SSIM: 1.0000, Std: 0.0000\n",
      "Processing 2200 shots for batch of 20 images...\n",
      "Shots: 2000, Avg SSIM: 1.0000, Std: 0.0000\n",
      "Processing 2200 shots for batch of 20 images...\n",
      "Shots: 2200, Avg SSIM: 1.0000, Std: 0.0000\n",
      "Processing 2400 shots for batch of 20 images...\n",
      "Shots: 2200, Avg SSIM: 1.0000, Std: 0.0000\n",
      "Processing 2400 shots for batch of 20 images...\n",
      "Shots: 2400, Avg SSIM: 1.0000, Std: 0.0000\n",
      "Processing 2600 shots for batch of 20 images...\n",
      "Shots: 2400, Avg SSIM: 1.0000, Std: 0.0000\n",
      "Processing 2600 shots for batch of 20 images...\n",
      "Shots: 2600, Avg SSIM: 1.0000, Std: 0.0000\n",
      "Processing 2800 shots for batch of 20 images...\n",
      "Shots: 2600, Avg SSIM: 1.0000, Std: 0.0000\n",
      "Processing 2800 shots for batch of 20 images...\n",
      "Shots: 2800, Avg SSIM: 1.0000, Std: 0.0000\n",
      "Processing 3000 shots for batch of 20 images...\n",
      "Shots: 2800, Avg SSIM: 1.0000, Std: 0.0000\n",
      "Processing 3000 shots for batch of 20 images...\n",
      "Shots: 3000, Avg SSIM: 1.0000, Std: 0.0000\n",
      "Shots: 3000, Avg SSIM: 1.0000, Std: 0.0000\n"
     ]
    }
   ],
   "source": [
    "simulator = AerSimulator()\n",
    "# Shots: 20, 40, ..., 200, 400, 600, ..., 3000\n",
    "shot_counts = np.concatenate([\n",
    "    np.arange(20, 201, 20),\n",
    "    np.arange(200, 3001, 200)\n",
    "])\n",
    "batch_size = 20  # Number of images in the batch\n",
    "start_index = 0    # Start index for the batch\n",
    "end_index = start_index + batch_size\n",
    "\n",
    "def fidelity_for_image_args(args):\n",
    "    img_idx, shots = args\n",
    "    image_data = dataset.to_numpy()[img_idx, 1:]\n",
    "    image = image_data.reshape(8, 8).astype(np.uint8)\n",
    "    pixel_values = image.flatten()\n",
    "    position_qubits = QuantumRegister(6, 'pos')\n",
    "    intensity_qubits = QuantumRegister(8, 'int')\n",
    "    classical_bits = ClassicalRegister(14, 'c')\n",
    "    qc = QuantumCircuit(position_qubits, intensity_qubits, classical_bits)\n",
    "    neqr(qc, position_qubits, intensity_qubits, pixel_values)\n",
    "    qc.measure(position_qubits[:] + intensity_qubits[:], classical_bits[:])\n",
    "    t_qc = transpile(qc, simulator)\n",
    "    result = simulator.run(t_qc, shots=int(shots)).result()\n",
    "    counts = result.get_counts()\n",
    "    pos2counts = defaultdict(lambda: defaultdict(int))\n",
    "    for bitstr, cnt in counts.items():\n",
    "        intensity = int(bitstr[:8],  2)\n",
    "        position  = int(bitstr[8:], 2)\n",
    "        pos2counts[position][intensity] += cnt\n",
    "    flat = np.zeros(64, dtype=int)\n",
    "    for pos, idict in pos2counts.items():\n",
    "        flat[pos] = max(idict.items(), key=lambda kv: kv[1])[0]\n",
    "    retrieved_image = flat.reshape((8,8)).astype(np.uint8)\n",
    "    fid = fidelity_func(image, retrieved_image)\n",
    "    return fid\n",
    "\n",
    "# Store results for CSV export\n",
    "all_rows = [('ImageIndex', 'Shots', metric_name)]\n",
    "fidelities = []  # mean for each shot count\n",
    "stds = []        # std for each shot count\n",
    "from concurrent.futures import ThreadPoolExecutor\n",
    "for shots in shot_counts:\n",
    "    print(f\"Processing {shots} shots for batch of {batch_size} images...\")\n",
    "    args = [(img_idx, shots) for img_idx in range(start_index, end_index)]\n",
    "    with ThreadPoolExecutor() as executor:\n",
    "        results = list(executor.map(fidelity_for_image_args, args))\n",
    "    avg_fid = np.mean(results)\n",
    "    std_fid = np.std(results)\n",
    "    fidelities.append(avg_fid)\n",
    "    stds.append(std_fid)\n",
    "    for img_idx, fid in zip(range(start_index, end_index), results):\n",
    "        all_rows.append((img_idx, shots, fid))\n",
    "    print(f\"Shots: {shots}, Avg {metric_name}: {avg_fid:.4f}, Std: {std_fid:.4f}\")"
   ]
  },
  {
   "cell_type": "code",
   "execution_count": 11,
   "metadata": {},
   "outputs": [
    {
     "data": {
      "image/png": "[encoded data removed]",
      "text/plain": [
       "<Figure size 800x500 with 1 Axes>"
      ]
     },
     "metadata": {},
     "output_type": "display_data"
    },
    {
     "name": "stdout",
     "output_type": "stream",
     "text": [
      "Results saved to /Users/jillxu/Documents/GitHub/quantum-image-ksasf/NEQR-greyscale/neqr_batch_results_ssim.csv\n"
     ]
    }
   ],
   "source": [
    "import csv\n",
    "import os\n",
    "\n",
    "# Plot with error bars (std across images for each shot count)\n",
    "plt.figure(figsize=(8,5))\n",
    "plt.errorbar(shot_counts, fidelities, yerr=stds, fmt='o', capsize=8, elinewidth=1, color='hotpink', label=f'Average {metric_name} ± Std')\n",
    "\n",
    "plt.title(f\"NEQR: Shots vs Average {metric_name} for {batch_size} images\")\n",
    "plt.xlabel(\"Shots\")\n",
    "plt.ylabel(f\"Average {metric_name}\")\n",
    "plt.grid(True)\n",
    "plt.xlim(0, 3000)\n",
    "plt.ylim(0, 1.05)\n",
    "plt.legend()\n",
    "plt.show()\n",
    "\n",
    "# Option to save results as CSV\n",
    "def save_csv(filename=\"neqr_batch_results_ssim.csv\"):\n",
    "    with open(filename, 'w', newline='') as f:\n",
    "        writer = csv.writer(f)\n",
    "        writer.writerows(all_rows)\n",
    "    print(f\"Results saved to {os.path.abspath(filename)}\")\n",
    "\n",
    "# Uncomment to save CSV\n",
    "save_csv()\n"
   ]
  },
  {
   "cell_type": "code",
   "execution_count": null,
   "metadata": {},
   "outputs": [],
   "source": []
  }
 ],
 "metadata": {
  "kernelspec": {
   "display_name": "KSASF",
   "language": "python",
   "name": "python3"
  },
  "language_info": {
   "codemirror_mode": {
    "name": "ipython",
    "version": 3
   },
   "file_extension": ".py",
   "mimetype": "text/x-python",
   "name": "python",
   "nbconvert_exporter": "python",
   "pygments_lexer": "ipython3",
   "version": "3.13.2"
  }
 },
 "nbformat": 4,
 "nbformat_minor": 2
}
